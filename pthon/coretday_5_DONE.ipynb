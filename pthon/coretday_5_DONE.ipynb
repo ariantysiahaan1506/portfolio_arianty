{
  "cells": [
    {
      "cell_type": "markdown",
      "metadata": {
        "id": "yzSvRYyFCHSg"
      },
      "source": [
        "#Integer\n",
        "\n",
        "adalh tnp desimal"
      ]
    },
    {
      "cell_type": "code",
      "execution_count": 45,
      "metadata": {
        "colab": {
          "base_uri": "https://localhost:8080/"
        },
        "id": "ECW3DCtXCGbR",
        "outputId": "346864c8-8b36-4d12-9a20-704cda0216a5"
      },
      "outputs": [
        {
          "output_type": "stream",
          "name": "stdout",
          "text": [
            "18\n"
          ]
        }
      ],
      "source": [
        "x=18\n",
        "print(x)"
      ]
    },
    {
      "cell_type": "code",
      "execution_count": 46,
      "metadata": {
        "id": "Cz2PomV_BfFh",
        "colab": {
          "base_uri": "https://localhost:8080/"
        },
        "outputId": "a0019f75-9113-4a50-9af5-b80f52a25d0f"
      },
      "outputs": [
        {
          "output_type": "execute_result",
          "data": {
            "text/plain": [
              "17"
            ]
          },
          "metadata": {},
          "execution_count": 46
        }
      ],
      "source": [
        "x=17\n",
        "x"
      ]
    },
    {
      "cell_type": "code",
      "execution_count": 47,
      "metadata": {
        "id": "13RoanFvBlpc",
        "colab": {
          "base_uri": "https://localhost:8080/"
        },
        "outputId": "e0917d12-d270-4953-fa8f-cda42245ee1d"
      },
      "outputs": [
        {
          "output_type": "execute_result",
          "data": {
            "text/plain": [
              "30"
            ]
          },
          "metadata": {},
          "execution_count": 47
        }
      ],
      "source": [
        "x=30\n",
        "x"
      ]
    },
    {
      "cell_type": "code",
      "execution_count": 48,
      "metadata": {
        "id": "XY9-A3BEBvly",
        "colab": {
          "base_uri": "https://localhost:8080/"
        },
        "outputId": "aa9ce4cb-a185-4399-f57a-e3173eac0ef6"
      },
      "outputs": [
        {
          "output_type": "stream",
          "name": "stdout",
          "text": [
            "-35\n"
          ]
        }
      ],
      "source": [
        "y=-35\n",
        "print(y)"
      ]
    },
    {
      "cell_type": "code",
      "execution_count": 49,
      "metadata": {
        "id": "0Y3nQqhlBx1W",
        "colab": {
          "base_uri": "https://localhost:8080/"
        },
        "outputId": "f8247685-fb7d-4ca3-c910-a202b917c5e9"
      },
      "outputs": [
        {
          "output_type": "execute_result",
          "data": {
            "text/plain": [
              "int"
            ]
          },
          "metadata": {},
          "execution_count": 49
        }
      ],
      "source": [
        "type(x)"
      ]
    },
    {
      "cell_type": "code",
      "execution_count": 50,
      "metadata": {
        "id": "puNkyVHcBzeQ",
        "colab": {
          "base_uri": "https://localhost:8080/"
        },
        "outputId": "0787fa57-6169-4a08-ec40-3da1ccc88537"
      },
      "outputs": [
        {
          "output_type": "stream",
          "name": "stdout",
          "text": [
            "<class 'int'>\n"
          ]
        }
      ],
      "source": [
        "print(type(y))"
      ]
    },
    {
      "cell_type": "markdown",
      "metadata": {
        "id": "wl3ryAfHCiGH"
      },
      "source": [
        "#float\n",
        "\n",
        "pake desimal"
      ]
    },
    {
      "cell_type": "code",
      "execution_count": 51,
      "metadata": {
        "id": "MrdK3xCVB1Op",
        "colab": {
          "base_uri": "https://localhost:8080/"
        },
        "outputId": "c671f13a-6e3d-441b-ab34-4f0fc9792e72"
      },
      "outputs": [
        {
          "output_type": "stream",
          "name": "stdout",
          "text": [
            "1.51\n"
          ]
        }
      ],
      "source": [
        "x=1.51\n",
        "print(x)"
      ]
    },
    {
      "cell_type": "code",
      "execution_count": 52,
      "metadata": {
        "id": "l3uZueGwCnwc",
        "colab": {
          "base_uri": "https://localhost:8080/"
        },
        "outputId": "bdd2a8bd-dde6-443d-d984-f02f92ecd4d2"
      },
      "outputs": [
        {
          "output_type": "stream",
          "name": "stdout",
          "text": [
            "-9.921\n"
          ]
        }
      ],
      "source": [
        "y=-9.921\n",
        "print(y)"
      ]
    },
    {
      "cell_type": "code",
      "execution_count": 53,
      "metadata": {
        "id": "JW2iqs2WCpVw",
        "colab": {
          "base_uri": "https://localhost:8080/"
        },
        "outputId": "83b6b107-2c0d-4d6a-fa09-2edc17475772"
      },
      "outputs": [
        {
          "output_type": "stream",
          "name": "stdout",
          "text": [
            "<class 'float'>\n"
          ]
        }
      ],
      "source": [
        "print(type(x))"
      ]
    },
    {
      "cell_type": "markdown",
      "metadata": {
        "id": "2Ys38M8zCx-J"
      },
      "source": [
        "#basic operation with integer and float\n"
      ]
    },
    {
      "cell_type": "code",
      "execution_count": 54,
      "metadata": {
        "id": "MOK4rwilC1U6"
      },
      "outputs": [],
      "source": [
        "x=7\n",
        "y=3"
      ]
    },
    {
      "cell_type": "code",
      "execution_count": 55,
      "metadata": {
        "id": "449tRInkFAOT",
        "colab": {
          "base_uri": "https://localhost:8080/"
        },
        "outputId": "8adf2ba5-01b7-4f92-9656-c29fcac4bf05"
      },
      "outputs": [
        {
          "output_type": "stream",
          "name": "stdout",
          "text": [
            "4\n"
          ]
        }
      ],
      "source": [
        "print(x-y)"
      ]
    },
    {
      "cell_type": "code",
      "execution_count": 56,
      "metadata": {
        "id": "ShvJ2Hg-FDMu",
        "colab": {
          "base_uri": "https://localhost:8080/"
        },
        "outputId": "9a84870f-bcb1-4ee2-d3b3-510fb73248fd"
      },
      "outputs": [
        {
          "output_type": "stream",
          "name": "stdout",
          "text": [
            "10\n"
          ]
        }
      ],
      "source": [
        "print(x+y)"
      ]
    },
    {
      "cell_type": "code",
      "execution_count": 57,
      "metadata": {
        "id": "qHciA5x8FEzj",
        "colab": {
          "base_uri": "https://localhost:8080/"
        },
        "outputId": "1e5df1e2-8893-4501-abdf-49725bad243b"
      },
      "outputs": [
        {
          "output_type": "execute_result",
          "data": {
            "text/plain": [
              "10"
            ]
          },
          "metadata": {},
          "execution_count": 57
        }
      ],
      "source": [
        "x+y"
      ]
    },
    {
      "cell_type": "code",
      "execution_count": 58,
      "metadata": {
        "id": "IhmkuKL5FFu0",
        "colab": {
          "base_uri": "https://localhost:8080/"
        },
        "outputId": "ff85cde6-1586-4bfa-82f2-9b2f525dafff"
      },
      "outputs": [
        {
          "output_type": "stream",
          "name": "stdout",
          "text": [
            "2.3333333333333335\n"
          ]
        }
      ],
      "source": [
        "print(x/y)"
      ]
    },
    {
      "cell_type": "code",
      "execution_count": 59,
      "metadata": {
        "id": "i8rH4J-pFIj2",
        "colab": {
          "base_uri": "https://localhost:8080/"
        },
        "outputId": "12af98c7-c31d-41b4-9c43-4101e880b7f3"
      },
      "outputs": [
        {
          "output_type": "stream",
          "name": "stdout",
          "text": [
            "2.3333333333333335\n"
          ]
        }
      ],
      "source": [
        "a=x/y\n",
        "print(a)"
      ]
    },
    {
      "cell_type": "code",
      "execution_count": 60,
      "metadata": {
        "id": "e2lkSam6FKFM",
        "colab": {
          "base_uri": "https://localhost:8080/"
        },
        "outputId": "ce6a3efb-f9a9-4916-eb9f-b6bd1a5deda4"
      },
      "outputs": [
        {
          "output_type": "execute_result",
          "data": {
            "text/plain": [
              "2.33"
            ]
          },
          "metadata": {},
          "execution_count": 60
        }
      ],
      "source": [
        "round(x/y,2)"
      ]
    },
    {
      "cell_type": "code",
      "execution_count": 61,
      "metadata": {
        "id": "Ccsjd_TiFOBj",
        "colab": {
          "base_uri": "https://localhost:8080/"
        },
        "outputId": "26fc8d5c-7f13-40db-8dd4-f1814e33baac"
      },
      "outputs": [
        {
          "output_type": "stream",
          "name": "stdout",
          "text": [
            "2.3333333333333335\n"
          ]
        }
      ],
      "source": [
        "print(x/y)"
      ]
    },
    {
      "cell_type": "code",
      "source": [
        "a=x/y\n",
        "print(a)"
      ],
      "metadata": {
        "id": "gAsEz6tFeLEl",
        "colab": {
          "base_uri": "https://localhost:8080/"
        },
        "outputId": "35521dd3-427c-4bff-bf8f-cd207f51a768"
      },
      "execution_count": 62,
      "outputs": [
        {
          "output_type": "stream",
          "name": "stdout",
          "text": [
            "2.3333333333333335\n"
          ]
        }
      ]
    },
    {
      "cell_type": "code",
      "source": [
        "round(x/y,4)"
      ],
      "metadata": {
        "id": "GUSBFwRCekIV",
        "colab": {
          "base_uri": "https://localhost:8080/"
        },
        "outputId": "e6aa1728-98fd-4b61-abaf-855e7c57afb0"
      },
      "execution_count": 63,
      "outputs": [
        {
          "output_type": "execute_result",
          "data": {
            "text/plain": [
              "2.3333"
            ]
          },
          "metadata": {},
          "execution_count": 63
        }
      ]
    },
    {
      "cell_type": "code",
      "source": [
        "print(x*y)"
      ],
      "metadata": {
        "id": "ulm3aNefeole",
        "colab": {
          "base_uri": "https://localhost:8080/"
        },
        "outputId": "2af0e1f5-2033-4c08-b5f2-89acdc0d87aa"
      },
      "execution_count": 64,
      "outputs": [
        {
          "output_type": "stream",
          "name": "stdout",
          "text": [
            "21\n"
          ]
        }
      ]
    },
    {
      "cell_type": "code",
      "source": [
        "x=7\n",
        "y=3\n",
        "print(x//y)"
      ],
      "metadata": {
        "id": "tO2o9k9Se5P4",
        "colab": {
          "base_uri": "https://localhost:8080/"
        },
        "outputId": "21ff3419-c824-46bd-ee83-385b314ea2e7"
      },
      "execution_count": 65,
      "outputs": [
        {
          "output_type": "stream",
          "name": "stdout",
          "text": [
            "2\n"
          ]
        }
      ]
    },
    {
      "cell_type": "code",
      "source": [
        "import math\n",
        "\n",
        "b=x/y\n",
        "print(b)\n",
        "print(math.ceil(b))"
      ],
      "metadata": {
        "id": "41gjO8bkfDXz",
        "colab": {
          "base_uri": "https://localhost:8080/"
        },
        "outputId": "0b21460f-829d-4e25-e846-7edb22ef101e"
      },
      "execution_count": 66,
      "outputs": [
        {
          "output_type": "stream",
          "name": "stdout",
          "text": [
            "2.3333333333333335\n",
            "3\n"
          ]
        }
      ]
    },
    {
      "cell_type": "code",
      "source": [
        "print(x**y)\n",
        "print(y**(0.5))"
      ],
      "metadata": {
        "id": "hRkNQbs_fKPX",
        "colab": {
          "base_uri": "https://localhost:8080/"
        },
        "outputId": "5368e128-9192-42ae-b55c-5d5a55d57699"
      },
      "execution_count": 67,
      "outputs": [
        {
          "output_type": "stream",
          "name": "stdout",
          "text": [
            "343\n",
            "1.7320508075688772\n"
          ]
        }
      ]
    },
    {
      "cell_type": "code",
      "source": [
        "print(9**3)"
      ],
      "metadata": {
        "id": "lk8b4bXcfhQ-",
        "colab": {
          "base_uri": "https://localhost:8080/"
        },
        "outputId": "0c5fda3e-db6c-4442-b53f-134b164dc3e8"
      },
      "execution_count": 68,
      "outputs": [
        {
          "output_type": "stream",
          "name": "stdout",
          "text": [
            "729\n"
          ]
        }
      ]
    },
    {
      "cell_type": "code",
      "source": [
        "import math\n",
        "b=5.2\n",
        "print(math.ceil(b))"
      ],
      "metadata": {
        "id": "gah-aGPxfm3u",
        "colab": {
          "base_uri": "https://localhost:8080/"
        },
        "outputId": "770ee16e-1116-4fae-8917-cace1b317650"
      },
      "execution_count": 69,
      "outputs": [
        {
          "output_type": "stream",
          "name": "stdout",
          "text": [
            "6\n"
          ]
        }
      ]
    },
    {
      "cell_type": "code",
      "source": [
        "c=5.99923987\n",
        "print(math.floor(c))"
      ],
      "metadata": {
        "id": "emwfyBjvf0sr",
        "colab": {
          "base_uri": "https://localhost:8080/"
        },
        "outputId": "6f1881c7-160e-4fca-8b7a-12efd0b547f4"
      },
      "execution_count": 70,
      "outputs": [
        {
          "output_type": "stream",
          "name": "stdout",
          "text": [
            "5\n"
          ]
        }
      ]
    },
    {
      "cell_type": "markdown",
      "source": [
        "#Boolean"
      ],
      "metadata": {
        "id": "uTtjrx_Yf-eK"
      }
    },
    {
      "cell_type": "code",
      "source": [
        "x=False\n",
        "y=True"
      ],
      "metadata": {
        "id": "kgNwh9Gkf_b1"
      },
      "execution_count": 71,
      "outputs": []
    },
    {
      "cell_type": "code",
      "source": [
        "print(x)"
      ],
      "metadata": {
        "id": "cX6IAWDWgD2P",
        "colab": {
          "base_uri": "https://localhost:8080/"
        },
        "outputId": "20d47a80-185f-428e-f3d6-94613cdcc07c"
      },
      "execution_count": 72,
      "outputs": [
        {
          "output_type": "stream",
          "name": "stdout",
          "text": [
            "False\n"
          ]
        }
      ]
    },
    {
      "cell_type": "code",
      "source": [
        "print(y)"
      ],
      "metadata": {
        "id": "7qgEJXVNgE7w",
        "colab": {
          "base_uri": "https://localhost:8080/"
        },
        "outputId": "89dbfa4c-7578-48a1-9759-47507c0cd3d9"
      },
      "execution_count": 73,
      "outputs": [
        {
          "output_type": "stream",
          "name": "stdout",
          "text": [
            "True\n"
          ]
        }
      ]
    },
    {
      "cell_type": "code",
      "source": [
        "print('Penjumlahan x+y=',x+y)\n",
        "print('Pengurangan x-y=',x-y)\n",
        "print('Perkalian x*y=',x*y)\n",
        "print('Pangkat x**y=',x**y)\n",
        "print('Pembagian x/y=',x/y)"
      ],
      "metadata": {
        "id": "YSy8mBcKgHxB",
        "colab": {
          "base_uri": "https://localhost:8080/"
        },
        "outputId": "222b4767-e33e-4dc8-b1be-ac3fca3b550a"
      },
      "execution_count": 74,
      "outputs": [
        {
          "output_type": "stream",
          "name": "stdout",
          "text": [
            "Penjumlahan x+y= 1\n",
            "Pengurangan x-y= -1\n",
            "Perkalian x*y= 0\n",
            "Pangkat x**y= 0\n",
            "Pembagian x/y= 0.0\n"
          ]
        }
      ]
    },
    {
      "cell_type": "code",
      "source": [
        "print(type(y))"
      ],
      "metadata": {
        "id": "n3YgxeqggUK7",
        "colab": {
          "base_uri": "https://localhost:8080/"
        },
        "outputId": "b651be53-b2f4-4fa3-eae0-d42f4c015b17"
      },
      "execution_count": 75,
      "outputs": [
        {
          "output_type": "stream",
          "name": "stdout",
          "text": [
            "<class 'bool'>\n"
          ]
        }
      ]
    },
    {
      "cell_type": "markdown",
      "source": [
        "#String"
      ],
      "metadata": {
        "id": "iYzqxgy5hqpU"
      }
    },
    {
      "cell_type": "code",
      "source": [
        "x='robbers'\n",
        "y=\"1975\"\n",
        "z=\"ra'if 14!\""
      ],
      "metadata": {
        "id": "jGtuvhFuhr_8"
      },
      "execution_count": 76,
      "outputs": []
    },
    {
      "cell_type": "code",
      "source": [
        "print('x tipe datany:',type(x))\n",
        "print('y tipe datany:',type(y))\n",
        "print('z tipe datany:',type(z))"
      ],
      "metadata": {
        "id": "DW-oirVIh0zB",
        "colab": {
          "base_uri": "https://localhost:8080/"
        },
        "outputId": "43f3f828-fdeb-4d74-e194-bd89d2b6ae01"
      },
      "execution_count": 77,
      "outputs": [
        {
          "output_type": "stream",
          "name": "stdout",
          "text": [
            "x tipe datany: <class 'str'>\n",
            "y tipe datany: <class 'str'>\n",
            "z tipe datany: <class 'str'>\n"
          ]
        }
      ]
    },
    {
      "cell_type": "code",
      "source": [
        "\"Python merupakan bhs pemrograman yang sangt berguna utk seorang Data Scientist\""
      ],
      "metadata": {
        "id": "s6W9FyW_h-en",
        "colab": {
          "base_uri": "https://localhost:8080/",
          "height": 36
        },
        "outputId": "73adecb3-41da-47f0-afdc-3286669c95d6"
      },
      "execution_count": 78,
      "outputs": [
        {
          "output_type": "execute_result",
          "data": {
            "text/plain": [
              "'Python merupakan bhs pemrograman yang sangt berguna utk seorang Data Scientist'"
            ],
            "application/vnd.google.colaboratory.intrinsic+json": {
              "type": "string"
            }
          },
          "metadata": {},
          "execution_count": 78
        }
      ]
    },
    {
      "cell_type": "code",
      "source": [
        "text=\"\"\"\n",
        "      Python merupakan bhs pemrograman yang sangt berguna utk seorang Data Scientist.Python merupakan bhs pemrograman yang sangt berguna utk seorang Data Scientist.Python merupakan bhs pemrograman yang sangt berguna utk seorang Data ScientistPython merupakan\n",
        "      bhs pemrograman yang sangt berguna utk seorang Data Scientist\n",
        "\"\"\"\n",
        "print(text)"
      ],
      "metadata": {
        "id": "sVjaoUhyiHdU",
        "colab": {
          "base_uri": "https://localhost:8080/"
        },
        "outputId": "e336885a-9903-4981-d9eb-24de158200ae"
      },
      "execution_count": 79,
      "outputs": [
        {
          "output_type": "stream",
          "name": "stdout",
          "text": [
            "\n",
            "      Python merupakan bhs pemrograman yang sangt berguna utk seorang Data Scientist.Python merupakan bhs pemrograman yang sangt berguna utk seorang Data Scientist.Python merupakan bhs pemrograman yang sangt berguna utk seorang Data ScientistPython merupakan\n",
            "      bhs pemrograman yang sangt berguna utk seorang Data Scientist\n",
            "\n"
          ]
        }
      ]
    },
    {
      "cell_type": "code",
      "source": [
        "contoh='''\n",
        "     Python merupakan bhs pemrograman yang sangt berguna utk seorang Data Scientist.\n",
        "Python merupakan bhs pemrograman yang sangt berguna utk seorang Data Scientist. Python merupakan bhs pemrograman yang sangt berguna utk seorang Data Scientist. Python merupakan bhs pemrograman yang sangt berguna utk seorang Data Scientist. Python merupakan bhs pemrograman yang sangt berguna utk seorang Data Scientist. Python merupakan bhs pemrograman yang sangt berguna utk seorang Data Scientist.\n",
        "  '''\n",
        "print(contoh)"
      ],
      "metadata": {
        "id": "FJ5FWOeyiQQH",
        "colab": {
          "base_uri": "https://localhost:8080/"
        },
        "outputId": "1fd14743-5e0a-4021-f081-06ab0053bb4f"
      },
      "execution_count": 80,
      "outputs": [
        {
          "output_type": "stream",
          "name": "stdout",
          "text": [
            "\n",
            "     Python merupakan bhs pemrograman yang sangt berguna utk seorang Data Scientist.\n",
            "Python merupakan bhs pemrograman yang sangt berguna utk seorang Data Scientist. Python merupakan bhs pemrograman yang sangt berguna utk seorang Data Scientist. Python merupakan bhs pemrograman yang sangt berguna utk seorang Data Scientist. Python merupakan bhs pemrograman yang sangt berguna utk seorang Data Scientist. Python merupakan bhs pemrograman yang sangt berguna utk seorang Data Scientist.\n",
            "  \n"
          ]
        }
      ]
    },
    {
      "cell_type": "code",
      "source": [
        "nama=\"saya Arianty adlh seorang data scientis\"\n",
        "print(nama)"
      ],
      "metadata": {
        "id": "cvbVmk-vi_Fe",
        "colab": {
          "base_uri": "https://localhost:8080/"
        },
        "outputId": "44964e0e-f8ef-4b42-b66d-582d3dbfc855"
      },
      "execution_count": 81,
      "outputs": [
        {
          "output_type": "stream",
          "name": "stdout",
          "text": [
            "saya Arianty adlh seorang data scientis\n"
          ]
        }
      ]
    },
    {
      "cell_type": "markdown",
      "source": [
        "#Basic Calculation with String"
      ],
      "metadata": {
        "id": "a7-Y3S_Ak0zi"
      }
    },
    {
      "cell_type": "code",
      "source": [
        "print(x)\n",
        "print(y)"
      ],
      "metadata": {
        "id": "T9vOvX4Bk3Eh",
        "colab": {
          "base_uri": "https://localhost:8080/"
        },
        "outputId": "d3893d1a-e74d-4bd9-bb50-50e88d9160b2"
      },
      "execution_count": 82,
      "outputs": [
        {
          "output_type": "stream",
          "name": "stdout",
          "text": [
            "robbers\n",
            "1975\n"
          ]
        }
      ]
    },
    {
      "cell_type": "code",
      "source": [
        "print(x+y)"
      ],
      "metadata": {
        "id": "0DmggyvHk7vn",
        "colab": {
          "base_uri": "https://localhost:8080/"
        },
        "outputId": "94631fac-d659-42a0-b76c-12f3b8b6cee5"
      },
      "execution_count": 83,
      "outputs": [
        {
          "output_type": "stream",
          "name": "stdout",
          "text": [
            "robbers1975\n"
          ]
        }
      ]
    },
    {
      "cell_type": "code",
      "source": [
        "print(x-y)"
      ],
      "metadata": {
        "id": "JUb0wLsnk9ms",
        "colab": {
          "base_uri": "https://localhost:8080/",
          "height": 141
        },
        "outputId": "70d1e7fe-a5fb-48af-b044-670fd4bfe469"
      },
      "execution_count": 84,
      "outputs": [
        {
          "output_type": "error",
          "ename": "TypeError",
          "evalue": "unsupported operand type(s) for -: 'str' and 'str'",
          "traceback": [
            "\u001b[0;31m---------------------------------------------------------------------------\u001b[0m",
            "\u001b[0;31mTypeError\u001b[0m                                 Traceback (most recent call last)",
            "\u001b[0;32m<ipython-input-84-258426c8f1fd>\u001b[0m in \u001b[0;36m<cell line: 0>\u001b[0;34m()\u001b[0m\n\u001b[0;32m----> 1\u001b[0;31m \u001b[0mprint\u001b[0m\u001b[0;34m(\u001b[0m\u001b[0mx\u001b[0m\u001b[0;34m-\u001b[0m\u001b[0my\u001b[0m\u001b[0;34m)\u001b[0m\u001b[0;34m\u001b[0m\u001b[0;34m\u001b[0m\u001b[0m\n\u001b[0m",
            "\u001b[0;31mTypeError\u001b[0m: unsupported operand type(s) for -: 'str' and 'str'"
          ]
        }
      ]
    },
    {
      "cell_type": "code",
      "source": [
        "print(x*y)"
      ],
      "metadata": {
        "id": "iO9UPyqMlBY2",
        "colab": {
          "base_uri": "https://localhost:8080/",
          "height": 141
        },
        "outputId": "b2c39fff-6a09-4885-a2c8-006ddec1b60d"
      },
      "execution_count": 86,
      "outputs": [
        {
          "output_type": "error",
          "ename": "TypeError",
          "evalue": "can't multiply sequence by non-int of type 'str'",
          "traceback": [
            "\u001b[0;31m---------------------------------------------------------------------------\u001b[0m",
            "\u001b[0;31mTypeError\u001b[0m                                 Traceback (most recent call last)",
            "\u001b[0;32m<ipython-input-86-fa88d19b8e29>\u001b[0m in \u001b[0;36m<cell line: 0>\u001b[0;34m()\u001b[0m\n\u001b[0;32m----> 1\u001b[0;31m \u001b[0mprint\u001b[0m\u001b[0;34m(\u001b[0m\u001b[0mx\u001b[0m\u001b[0;34m*\u001b[0m\u001b[0my\u001b[0m\u001b[0;34m)\u001b[0m\u001b[0;34m\u001b[0m\u001b[0;34m\u001b[0m\u001b[0m\n\u001b[0m",
            "\u001b[0;31mTypeError\u001b[0m: can't multiply sequence by non-int of type 'str'"
          ]
        }
      ]
    },
    {
      "cell_type": "code",
      "source": [
        "print(x/y)"
      ],
      "metadata": {
        "id": "PqNOwDJqlOVV"
      },
      "execution_count": null,
      "outputs": []
    },
    {
      "cell_type": "code",
      "source": [
        "print(x)"
      ],
      "metadata": {
        "id": "wi4K73CwlTod"
      },
      "execution_count": null,
      "outputs": []
    },
    {
      "cell_type": "code",
      "source": [
        "print(x*3)"
      ],
      "metadata": {
        "id": "w8DmhNvUlXGA"
      },
      "execution_count": null,
      "outputs": []
    },
    {
      "cell_type": "code",
      "source": [
        "print((x+' ')*3)"
      ],
      "metadata": {
        "id": "Pln7roXVlacv"
      },
      "execution_count": null,
      "outputs": []
    },
    {
      "cell_type": "markdown",
      "source": [
        "#slicing can't apply in float, int, boolean"
      ],
      "metadata": {
        "id": "y5xamL96na3_"
      }
    },
    {
      "cell_type": "code",
      "source": [
        "x=True\n",
        "y=False\n",
        "a=(x*y)\n",
        "print('Hasil perkalian a=',a)\n",
        "print(a[0:])"
      ],
      "metadata": {
        "colab": {
          "base_uri": "https://localhost:8080/",
          "height": 193
        },
        "id": "mg1Iqkj7neNn",
        "outputId": "880c48fc-3263-491c-d129-ecc2bb2c74ed"
      },
      "execution_count": 87,
      "outputs": [
        {
          "output_type": "stream",
          "name": "stdout",
          "text": [
            "Hasil perkalian a= 0\n"
          ]
        },
        {
          "output_type": "error",
          "ename": "TypeError",
          "evalue": "'int' object is not subscriptable",
          "traceback": [
            "\u001b[0;31m---------------------------------------------------------------------------\u001b[0m",
            "\u001b[0;31mTypeError\u001b[0m                                 Traceback (most recent call last)",
            "\u001b[0;32m<ipython-input-87-5c2d91fb7281>\u001b[0m in \u001b[0;36m<cell line: 0>\u001b[0;34m()\u001b[0m\n\u001b[1;32m      3\u001b[0m \u001b[0ma\u001b[0m\u001b[0;34m=\u001b[0m\u001b[0;34m(\u001b[0m\u001b[0mx\u001b[0m\u001b[0;34m*\u001b[0m\u001b[0my\u001b[0m\u001b[0;34m)\u001b[0m\u001b[0;34m\u001b[0m\u001b[0;34m\u001b[0m\u001b[0m\n\u001b[1;32m      4\u001b[0m \u001b[0mprint\u001b[0m\u001b[0;34m(\u001b[0m\u001b[0;34m'Hasil perkalian a='\u001b[0m\u001b[0;34m,\u001b[0m\u001b[0ma\u001b[0m\u001b[0;34m)\u001b[0m\u001b[0;34m\u001b[0m\u001b[0;34m\u001b[0m\u001b[0m\n\u001b[0;32m----> 5\u001b[0;31m \u001b[0mprint\u001b[0m\u001b[0;34m(\u001b[0m\u001b[0ma\u001b[0m\u001b[0;34m[\u001b[0m\u001b[0;36m0\u001b[0m\u001b[0;34m:\u001b[0m\u001b[0;34m]\u001b[0m\u001b[0;34m)\u001b[0m\u001b[0;34m\u001b[0m\u001b[0;34m\u001b[0m\u001b[0m\n\u001b[0m",
            "\u001b[0;31mTypeError\u001b[0m: 'int' object is not subscriptable"
          ]
        }
      ]
    },
    {
      "cell_type": "code",
      "source": [
        "x=3\n",
        "y=4\n",
        "a=(x*y)\n",
        "print('Hasil perkalian a:',a)\n",
        "print(a[1:])"
      ],
      "metadata": {
        "colab": {
          "base_uri": "https://localhost:8080/",
          "height": 193
        },
        "id": "1R3jTUqEr9fW",
        "outputId": "0b5dfcdc-dd80-4bde-c103-44c252800939"
      },
      "execution_count": 89,
      "outputs": [
        {
          "output_type": "stream",
          "name": "stdout",
          "text": [
            "Hasil perkalian a: 12\n"
          ]
        },
        {
          "output_type": "error",
          "ename": "TypeError",
          "evalue": "'int' object is not subscriptable",
          "traceback": [
            "\u001b[0;31m---------------------------------------------------------------------------\u001b[0m",
            "\u001b[0;31mTypeError\u001b[0m                                 Traceback (most recent call last)",
            "\u001b[0;32m<ipython-input-89-3a326e769a9a>\u001b[0m in \u001b[0;36m<cell line: 0>\u001b[0;34m()\u001b[0m\n\u001b[1;32m      3\u001b[0m \u001b[0ma\u001b[0m\u001b[0;34m=\u001b[0m\u001b[0;34m(\u001b[0m\u001b[0mx\u001b[0m\u001b[0;34m*\u001b[0m\u001b[0my\u001b[0m\u001b[0;34m)\u001b[0m\u001b[0;34m\u001b[0m\u001b[0;34m\u001b[0m\u001b[0m\n\u001b[1;32m      4\u001b[0m \u001b[0mprint\u001b[0m\u001b[0;34m(\u001b[0m\u001b[0;34m'Hasil perkalian a:'\u001b[0m\u001b[0;34m,\u001b[0m\u001b[0ma\u001b[0m\u001b[0;34m)\u001b[0m\u001b[0;34m\u001b[0m\u001b[0;34m\u001b[0m\u001b[0m\n\u001b[0;32m----> 5\u001b[0;31m \u001b[0mprint\u001b[0m\u001b[0;34m(\u001b[0m\u001b[0ma\u001b[0m\u001b[0;34m[\u001b[0m\u001b[0;36m1\u001b[0m\u001b[0;34m:\u001b[0m\u001b[0;34m]\u001b[0m\u001b[0;34m)\u001b[0m\u001b[0;34m\u001b[0m\u001b[0;34m\u001b[0m\u001b[0m\n\u001b[0m",
            "\u001b[0;31mTypeError\u001b[0m: 'int' object is not subscriptable"
          ]
        }
      ]
    },
    {
      "cell_type": "code",
      "source": [
        "x=3\n",
        "y=4.5\n",
        "a=(x*y)\n",
        "print('Hasil perkalian a=',a)\n"
      ],
      "metadata": {
        "colab": {
          "base_uri": "https://localhost:8080/"
        },
        "id": "mbMMDTFktTwU",
        "outputId": "0a1551a1-0fcd-4877-c067-5359982061a3"
      },
      "execution_count": 90,
      "outputs": [
        {
          "output_type": "stream",
          "name": "stdout",
          "text": [
            "Hasil perkalian a= 13.5\n"
          ]
        }
      ]
    },
    {
      "cell_type": "code",
      "source": [
        "print(a(1:))"
      ],
      "metadata": {
        "colab": {
          "base_uri": "https://localhost:8080/",
          "height": 106
        },
        "id": "huSJx3FbwrJK",
        "outputId": "1a5999a6-235e-44b8-e0c6-b26b0da4dfa0"
      },
      "execution_count": 91,
      "outputs": [
        {
          "output_type": "error",
          "ename": "SyntaxError",
          "evalue": "invalid syntax (<ipython-input-91-35ab839315c9>, line 1)",
          "traceback": [
            "\u001b[0;36m  File \u001b[0;32m\"<ipython-input-91-35ab839315c9>\"\u001b[0;36m, line \u001b[0;32m1\u001b[0m\n\u001b[0;31m    print(a(1:))\u001b[0m\n\u001b[0m             ^\u001b[0m\n\u001b[0;31mSyntaxError\u001b[0m\u001b[0;31m:\u001b[0m invalid syntax\n"
          ]
        }
      ]
    },
    {
      "cell_type": "markdown",
      "source": [
        "#Non-Primitive Data Structures\n"
      ],
      "metadata": {
        "id": "8jFu05XHv4ad"
      }
    },
    {
      "cell_type": "markdown",
      "source": [
        "#List"
      ],
      "metadata": {
        "id": "FofTe6Hrv8uk"
      }
    },
    {
      "cell_type": "code",
      "source": [
        "lst_1=['a','b','c','d','e','f','g']\n",
        "print(lst_1)"
      ],
      "metadata": {
        "colab": {
          "base_uri": "https://localhost:8080/"
        },
        "id": "plEQGPvuv7rJ",
        "outputId": "3c31cc1c-fb32-4064-fa80-9c7a4e029e58"
      },
      "execution_count": 92,
      "outputs": [
        {
          "output_type": "stream",
          "name": "stdout",
          "text": [
            "['a', 'b', 'c', 'd', 'e', 'f', 'g']\n"
          ]
        }
      ]
    },
    {
      "cell_type": "code",
      "source": [
        "print(type(lst_1))"
      ],
      "metadata": {
        "colab": {
          "base_uri": "https://localhost:8080/"
        },
        "id": "8C8RXEZLwyk9",
        "outputId": "ea25b8ff-13ef-4ae7-c2ea-96423d7235aa"
      },
      "execution_count": 93,
      "outputs": [
        {
          "output_type": "stream",
          "name": "stdout",
          "text": [
            "<class 'list'>\n"
          ]
        }
      ]
    },
    {
      "cell_type": "code",
      "source": [
        "lst_2=['b','a',5,False,8.7]\n",
        "print(lst_2)"
      ],
      "metadata": {
        "colab": {
          "base_uri": "https://localhost:8080/"
        },
        "id": "yOtIA6XRw1NX",
        "outputId": "568f8201-c502-4e94-f729-67a88a87bc58"
      },
      "execution_count": 94,
      "outputs": [
        {
          "output_type": "stream",
          "name": "stdout",
          "text": [
            "['b', 'a', 5, False, 8.7]\n"
          ]
        }
      ]
    },
    {
      "cell_type": "code",
      "source": [
        "print(type(lst_2))"
      ],
      "metadata": {
        "colab": {
          "base_uri": "https://localhost:8080/"
        },
        "id": "9vEYFNuoxHYh",
        "outputId": "7dc3bcb0-aafd-4332-dcd8-4cfdd9c2a04d"
      },
      "execution_count": 95,
      "outputs": [
        {
          "output_type": "stream",
          "name": "stdout",
          "text": [
            "<class 'list'>\n"
          ]
        }
      ]
    },
    {
      "cell_type": "code",
      "source": [],
      "metadata": {
        "id": "lk4Bt4W1xMv-"
      },
      "execution_count": 95,
      "outputs": []
    },
    {
      "cell_type": "markdown",
      "source": [
        "#Basic Operations with List"
      ],
      "metadata": {
        "id": "p3EFCjoLxRr-"
      }
    },
    {
      "cell_type": "code",
      "source": [
        "print(lst_1+lst_2)"
      ],
      "metadata": {
        "colab": {
          "base_uri": "https://localhost:8080/"
        },
        "id": "IhtpMjTLxT_u",
        "outputId": "b59f6dab-6cdc-45e0-dd91-ac0484346366"
      },
      "execution_count": 96,
      "outputs": [
        {
          "output_type": "stream",
          "name": "stdout",
          "text": [
            "['a', 'b', 'c', 'd', 'e', 'f', 'g', 'b', 'a', 5, False, 8.7]\n"
          ]
        }
      ]
    },
    {
      "cell_type": "code",
      "source": [
        "print(lst_1[1:4])"
      ],
      "metadata": {
        "colab": {
          "base_uri": "https://localhost:8080/"
        },
        "id": "JCAstC5MxX_6",
        "outputId": "360a25b4-5a7c-4537-f934-ba8dc7e62f5a"
      },
      "execution_count": 97,
      "outputs": [
        {
          "output_type": "stream",
          "name": "stdout",
          "text": [
            "['b', 'c', 'd']\n"
          ]
        }
      ]
    },
    {
      "cell_type": "code",
      "source": [
        "print(lst_1[1:4])\n",
        "print(lst_1[-3:])\n",
        "print(lst_2[2:])"
      ],
      "metadata": {
        "colab": {
          "base_uri": "https://localhost:8080/"
        },
        "id": "wn3Mtov1xdRG",
        "outputId": "d86e4c1d-d70d-4b79-c6f4-128711fbf291"
      },
      "execution_count": 98,
      "outputs": [
        {
          "output_type": "stream",
          "name": "stdout",
          "text": [
            "['b', 'c', 'd']\n",
            "['e', 'f', 'g']\n",
            "[5, False, 8.7]\n"
          ]
        }
      ]
    },
    {
      "cell_type": "code",
      "source": [
        "#mengakses spesifik value\n",
        "print(lst_1[3])"
      ],
      "metadata": {
        "colab": {
          "base_uri": "https://localhost:8080/"
        },
        "id": "yTgdu006xvZQ",
        "outputId": "a7c083ac-b643-4ae9-e25f-1e70ee1d5015"
      },
      "execution_count": 99,
      "outputs": [
        {
          "output_type": "stream",
          "name": "stdout",
          "text": [
            "d\n"
          ]
        }
      ]
    },
    {
      "cell_type": "code",
      "source": [
        "#mengganti spesific value\n",
        "lst_1[3]=12.69\n",
        "print(lst_1)"
      ],
      "metadata": {
        "colab": {
          "base_uri": "https://localhost:8080/"
        },
        "id": "u-Sw3m9Bx_qr",
        "outputId": "571c01b1-f961-4bf8-940d-4335c2c4503e"
      },
      "execution_count": 100,
      "outputs": [
        {
          "output_type": "stream",
          "name": "stdout",
          "text": [
            "['a', 'b', 'c', 12.69, 'e', 'f', 'g']\n"
          ]
        }
      ]
    },
    {
      "cell_type": "code",
      "source": [
        "#mengganti range nilai\n",
        "lst_1[3:]=['z','e','a', True,1,30.5]\n",
        "print(lst_1)"
      ],
      "metadata": {
        "colab": {
          "base_uri": "https://localhost:8080/"
        },
        "id": "Q0xgqXCbyNr2",
        "outputId": "8fd6ad83-70d5-46fa-e3d9-08b35b24bec3"
      },
      "execution_count": 101,
      "outputs": [
        {
          "output_type": "stream",
          "name": "stdout",
          "text": [
            "['a', 'b', 'c', 'z', 'e', 'a', True, 1, 30.5]\n"
          ]
        }
      ]
    },
    {
      "cell_type": "code",
      "source": [
        "#menambahkan nilai baru di akhir list\n",
        "lst_1.append('g')\n",
        "print(lst_1)"
      ],
      "metadata": {
        "colab": {
          "base_uri": "https://localhost:8080/"
        },
        "id": "p33kYqCd0ZrH",
        "outputId": "89f11adc-b87a-4ad8-9d22-f75aaae68378"
      },
      "execution_count": 102,
      "outputs": [
        {
          "output_type": "stream",
          "name": "stdout",
          "text": [
            "['a', 'b', 'c', 'z', 'e', 'a', True, 1, 30.5, 'g']\n"
          ]
        }
      ]
    },
    {
      "cell_type": "code",
      "source": [
        "lst_2"
      ],
      "metadata": {
        "colab": {
          "base_uri": "https://localhost:8080/"
        },
        "id": "rw1hDRk40Ii6",
        "outputId": "05b77963-4e6d-4c82-febc-47b1db2fd2b4"
      },
      "execution_count": 103,
      "outputs": [
        {
          "output_type": "execute_result",
          "data": {
            "text/plain": [
              "['b', 'a', 5, False, 8.7]"
            ]
          },
          "metadata": {},
          "execution_count": 103
        }
      ]
    },
    {
      "cell_type": "code",
      "source": [
        "#checking if a value is contained in the list\n",
        "'z' in lst_1"
      ],
      "metadata": {
        "colab": {
          "base_uri": "https://localhost:8080/"
        },
        "id": "eRM9yi9R0JzS",
        "outputId": "e63e3d15-d2ea-4235-92d2-9573ed4fad9a"
      },
      "execution_count": 104,
      "outputs": [
        {
          "output_type": "execute_result",
          "data": {
            "text/plain": [
              "True"
            ]
          },
          "metadata": {},
          "execution_count": 104
        }
      ]
    },
    {
      "cell_type": "code",
      "source": [
        "#Join list elements into string\n",
        "lst_1=['a','b','c','z','e','g']\n",
        "print(''.join(lst_1))\n",
        "print('_'.join(lst_1))\n",
        "print(type(lst_1))\n"
      ],
      "metadata": {
        "colab": {
          "base_uri": "https://localhost:8080/"
        },
        "id": "uRtLshGY0Qco",
        "outputId": "a92aacf4-0ec4-45b4-881f-7bfdcdc57bb3"
      },
      "execution_count": 105,
      "outputs": [
        {
          "output_type": "stream",
          "name": "stdout",
          "text": [
            "abczeg\n",
            "a_b_c_z_e_g\n",
            "<class 'list'>\n"
          ]
        }
      ]
    },
    {
      "cell_type": "code",
      "source": [
        "print(lst_1)"
      ],
      "metadata": {
        "colab": {
          "base_uri": "https://localhost:8080/"
        },
        "id": "i-KVnGen3h65",
        "outputId": "904bef8f-7967-4876-e841-1f2d8e1bbba9"
      },
      "execution_count": 106,
      "outputs": [
        {
          "output_type": "stream",
          "name": "stdout",
          "text": [
            "['a', 'b', 'c', 'z', 'e', 'g']\n"
          ]
        }
      ]
    },
    {
      "cell_type": "code",
      "source": [
        "del lst_1[1]"
      ],
      "metadata": {
        "id": "bMK0136r4Cdl"
      },
      "execution_count": 107,
      "outputs": []
    },
    {
      "cell_type": "code",
      "source": [
        "lst_1"
      ],
      "metadata": {
        "colab": {
          "base_uri": "https://localhost:8080/"
        },
        "id": "qVQb8w4YThbq",
        "outputId": "f70ccb64-2236-4e81-fdb0-16e80495f1e6"
      },
      "execution_count": 108,
      "outputs": [
        {
          "output_type": "execute_result",
          "data": {
            "text/plain": [
              "['a', 'c', 'z', 'e', 'g']"
            ]
          },
          "metadata": {},
          "execution_count": 108
        }
      ]
    },
    {
      "cell_type": "code",
      "source": [
        "print(lst_1)"
      ],
      "metadata": {
        "colab": {
          "base_uri": "https://localhost:8080/"
        },
        "id": "mmACmIrQVh33",
        "outputId": "d89bb07a-df7c-46f9-cb39-773f5fbdd257"
      },
      "execution_count": 109,
      "outputs": [
        {
          "output_type": "stream",
          "name": "stdout",
          "text": [
            "['a', 'c', 'z', 'e', 'g']\n"
          ]
        }
      ]
    },
    {
      "cell_type": "code",
      "source": [
        "del lst_1[1:4]"
      ],
      "metadata": {
        "id": "XLDAkUoOYsnk"
      },
      "execution_count": 110,
      "outputs": []
    },
    {
      "cell_type": "code",
      "source": [
        "print(lst_1)"
      ],
      "metadata": {
        "colab": {
          "base_uri": "https://localhost:8080/"
        },
        "id": "ygXPeMC4Yxwj",
        "outputId": "fa9b5b00-f0be-4fb9-9aaf-229e19996afb"
      },
      "execution_count": 111,
      "outputs": [
        {
          "output_type": "stream",
          "name": "stdout",
          "text": [
            "['a', 'g']\n"
          ]
        }
      ]
    },
    {
      "cell_type": "code",
      "source": [
        "a=0"
      ],
      "metadata": {
        "id": "ci4XVUB5YzUH"
      },
      "execution_count": 112,
      "outputs": []
    },
    {
      "cell_type": "code",
      "source": [
        "lst_1=['a','b','c','d','e','f','g']\n",
        "lst_1.pop(a)\n",
        "print(lst_1)"
      ],
      "metadata": {
        "colab": {
          "base_uri": "https://localhost:8080/"
        },
        "id": "Yda230Z0Y0jT",
        "outputId": "12eb215a-d4dd-47df-9f44-8f73ae8a81ce"
      },
      "execution_count": 114,
      "outputs": [
        {
          "output_type": "stream",
          "name": "stdout",
          "text": [
            "['b', 'c', 'd', 'e', 'f', 'g']\n"
          ]
        }
      ]
    },
    {
      "cell_type": "code",
      "source": [
        "print(lst_1)"
      ],
      "metadata": {
        "colab": {
          "base_uri": "https://localhost:8080/"
        },
        "id": "4cgLHHvlY_um",
        "outputId": "675c9a26-bc61-4e4a-896f-30c425f7f1f8"
      },
      "execution_count": 115,
      "outputs": [
        {
          "output_type": "stream",
          "name": "stdout",
          "text": [
            "['b', 'c', 'd', 'e', 'f', 'g']\n"
          ]
        }
      ]
    },
    {
      "cell_type": "code",
      "source": [],
      "metadata": {
        "id": "PePGcwx-ZYqX"
      },
      "execution_count": null,
      "outputs": []
    },
    {
      "cell_type": "markdown",
      "source": [
        "#Arrays"
      ],
      "metadata": {
        "id": "GXLdy5VFZ-1j"
      }
    },
    {
      "cell_type": "code",
      "source": [
        "import numpy as np"
      ],
      "metadata": {
        "id": "PlzaeaXNaA7n"
      },
      "execution_count": 116,
      "outputs": []
    },
    {
      "cell_type": "code",
      "source": [
        "arr_1=np.array([1,2,3,4,5,6.5,True,False])"
      ],
      "metadata": {
        "id": "TglFJsuGaC8m"
      },
      "execution_count": 117,
      "outputs": []
    },
    {
      "cell_type": "code",
      "source": [
        "print(arr_1)"
      ],
      "metadata": {
        "colab": {
          "base_uri": "https://localhost:8080/"
        },
        "id": "FD1PZ-LKaLpj",
        "outputId": "3402fed9-33fa-4211-c15a-5906d5f28a57"
      },
      "execution_count": 118,
      "outputs": [
        {
          "output_type": "stream",
          "name": "stdout",
          "text": [
            "[1.  2.  3.  4.  5.  6.5 1.  0. ]\n"
          ]
        }
      ]
    },
    {
      "cell_type": "code",
      "source": [
        "'a','b',5,3"
      ],
      "metadata": {
        "colab": {
          "base_uri": "https://localhost:8080/"
        },
        "id": "sc7XjAh9aNVS",
        "outputId": "30e62332-e16f-4b4e-eb4e-1cecbd0f70c9"
      },
      "execution_count": 119,
      "outputs": [
        {
          "output_type": "execute_result",
          "data": {
            "text/plain": [
              "('a', 'b', 5, 3)"
            ]
          },
          "metadata": {},
          "execution_count": 119
        }
      ]
    },
    {
      "cell_type": "code",
      "source": [
        "arr_mixed_1=np.array(['a','b',5,3])"
      ],
      "metadata": {
        "id": "LN9WnBKmnZa-"
      },
      "execution_count": 120,
      "outputs": []
    },
    {
      "cell_type": "code",
      "source": [
        "print(arr_mixed_1)"
      ],
      "metadata": {
        "colab": {
          "base_uri": "https://localhost:8080/"
        },
        "id": "R4mms8jcnnnl",
        "outputId": "357378cc-e29d-4064-f635-d9f3d1011858"
      },
      "execution_count": 121,
      "outputs": [
        {
          "output_type": "stream",
          "name": "stdout",
          "text": [
            "['a' 'b' '5' '3']\n"
          ]
        }
      ]
    },
    {
      "cell_type": "code",
      "source": [
        "arr_mixed_2=np.array([1,4,5,7,True])"
      ],
      "metadata": {
        "id": "vcz7BNc5nskQ"
      },
      "execution_count": 122,
      "outputs": []
    },
    {
      "cell_type": "code",
      "source": [
        "print(arr_mixed_2)"
      ],
      "metadata": {
        "colab": {
          "base_uri": "https://localhost:8080/"
        },
        "id": "EDezozHPoHZR",
        "outputId": "e6bb1a42-0195-44aa-ea50-2d730862ced7"
      },
      "execution_count": 123,
      "outputs": [
        {
          "output_type": "stream",
          "name": "stdout",
          "text": [
            "[1 4 5 7 1]\n"
          ]
        }
      ]
    },
    {
      "cell_type": "code",
      "source": [
        "arr_mixed_2=np.array([1,4,5,7,True])\n",
        "print(arr_mixed_2)"
      ],
      "metadata": {
        "colab": {
          "base_uri": "https://localhost:8080/"
        },
        "id": "o99nT9Y0oJjw",
        "outputId": "c1988e57-1f15-4fdd-acb6-7961ef7cb527"
      },
      "execution_count": 126,
      "outputs": [
        {
          "output_type": "stream",
          "name": "stdout",
          "text": [
            "[1 4 5 7 1]\n"
          ]
        }
      ]
    },
    {
      "cell_type": "code",
      "source": [
        "arr_ones=np.ones(3)"
      ],
      "metadata": {
        "id": "CDqrmugqq-rI"
      },
      "execution_count": 127,
      "outputs": []
    },
    {
      "cell_type": "code",
      "source": [
        "print(arr_ones)"
      ],
      "metadata": {
        "colab": {
          "base_uri": "https://localhost:8080/"
        },
        "id": "j64-csc8rZce",
        "outputId": "381a400f-c5c1-4334-d939-2d8edc612a90"
      },
      "execution_count": 128,
      "outputs": [
        {
          "output_type": "stream",
          "name": "stdout",
          "text": [
            "[1. 1. 1.]\n"
          ]
        }
      ]
    },
    {
      "cell_type": "code",
      "source": [
        "arr_zeros=np.zeros(7)"
      ],
      "metadata": {
        "id": "ZZkzBQTkrdNf"
      },
      "execution_count": 129,
      "outputs": []
    },
    {
      "cell_type": "code",
      "source": [
        "print(arr_zeros)"
      ],
      "metadata": {
        "colab": {
          "base_uri": "https://localhost:8080/"
        },
        "id": "LmA0sdnIrz84",
        "outputId": "e34a3c63-869e-48ac-aa7b-2c7053706888"
      },
      "execution_count": 130,
      "outputs": [
        {
          "output_type": "stream",
          "name": "stdout",
          "text": [
            "[0. 0. 0. 0. 0. 0. 0.]\n"
          ]
        }
      ]
    },
    {
      "cell_type": "code",
      "source": [],
      "metadata": {
        "id": "NpNte5_Br1rw"
      },
      "execution_count": null,
      "outputs": []
    },
    {
      "cell_type": "markdown",
      "source": [
        "#Basic Operations with Numpy Array"
      ],
      "metadata": {
        "id": "chNvPAzkr31Y"
      }
    },
    {
      "cell_type": "code",
      "source": [
        "arr_1=np.array([1,2,3,4,5])\n",
        "print(arr_1)"
      ],
      "metadata": {
        "colab": {
          "base_uri": "https://localhost:8080/"
        },
        "id": "wLdKTtNIr6HQ",
        "outputId": "734f5f2b-06a6-49aa-a207-cf145816ad1c"
      },
      "execution_count": 131,
      "outputs": [
        {
          "output_type": "stream",
          "name": "stdout",
          "text": [
            "[1 2 3 4 5]\n"
          ]
        }
      ]
    },
    {
      "cell_type": "code",
      "source": [
        "arr_2=np.ones(5)*3\n",
        "print(arr_2)"
      ],
      "metadata": {
        "colab": {
          "base_uri": "https://localhost:8080/"
        },
        "id": "Xdk_m2EVtHJu",
        "outputId": "cffa6b05-f0c7-4405-e5cc-511c648094e4"
      },
      "execution_count": 138,
      "outputs": [
        {
          "output_type": "stream",
          "name": "stdout",
          "text": [
            "[3. 3. 3. 3. 3.]\n"
          ]
        }
      ]
    },
    {
      "cell_type": "code",
      "source": [
        "#substraction\n",
        "\n",
        "print(arr_1-arr_2)"
      ],
      "metadata": {
        "colab": {
          "base_uri": "https://localhost:8080/"
        },
        "id": "rXZggiYUtPF1",
        "outputId": "ee09a0ea-9159-4702-af88-149110e96b7d"
      },
      "execution_count": 139,
      "outputs": [
        {
          "output_type": "stream",
          "name": "stdout",
          "text": [
            "[-2. -1.  0.  1.  2.]\n"
          ]
        }
      ]
    },
    {
      "cell_type": "code",
      "source": [
        "print(arr_1+arr_2)"
      ],
      "metadata": {
        "colab": {
          "base_uri": "https://localhost:8080/"
        },
        "id": "mXyj8onftwUn",
        "outputId": "c70f1870-b3b5-49d9-ddad-a3ba11ba57b4"
      },
      "execution_count": 141,
      "outputs": [
        {
          "output_type": "stream",
          "name": "stdout",
          "text": [
            "[4. 5. 6. 7. 8.]\n"
          ]
        }
      ]
    },
    {
      "cell_type": "code",
      "source": [
        "#multplication\n",
        "print(arr_1*arr_2)"
      ],
      "metadata": {
        "colab": {
          "base_uri": "https://localhost:8080/"
        },
        "id": "02xGhob-t2s3",
        "outputId": "57178592-3590-4a89-974a-d55b279fda0b"
      },
      "execution_count": 143,
      "outputs": [
        {
          "output_type": "stream",
          "name": "stdout",
          "text": [
            "[ 3.  6.  9. 12. 15.]\n"
          ]
        }
      ]
    },
    {
      "cell_type": "code",
      "source": [
        "#Division\n",
        "\n",
        "print(arr_1/arr_2)"
      ],
      "metadata": {
        "colab": {
          "base_uri": "https://localhost:8080/"
        },
        "id": "Eys0W8yNt_1n",
        "outputId": "1dfafdcf-3c3f-42ac-f0d2-9c5649e7346a"
      },
      "execution_count": 144,
      "outputs": [
        {
          "output_type": "stream",
          "name": "stdout",
          "text": [
            "[0.33333333 0.66666667 1.         1.33333333 1.66666667]\n"
          ]
        }
      ]
    },
    {
      "cell_type": "code",
      "source": [
        "#floor division\n",
        "\n",
        "print(arr_1//arr_2)"
      ],
      "metadata": {
        "colab": {
          "base_uri": "https://localhost:8080/"
        },
        "id": "v0_nKVaMuJAQ",
        "outputId": "f7ddb674-009a-469c-85e1-9bc21fd65fc3"
      },
      "execution_count": 145,
      "outputs": [
        {
          "output_type": "stream",
          "name": "stdout",
          "text": [
            "[0. 0. 1. 1. 1.]\n"
          ]
        }
      ]
    },
    {
      "cell_type": "code",
      "source": [
        "print(arr_2)"
      ],
      "metadata": {
        "colab": {
          "base_uri": "https://localhost:8080/"
        },
        "id": "th50hFlauSmH",
        "outputId": "8dd9f833-cdb4-4b21-e463-2cc9968cbc7f"
      },
      "execution_count": 146,
      "outputs": [
        {
          "output_type": "stream",
          "name": "stdout",
          "text": [
            "[3. 3. 3. 3. 3.]\n"
          ]
        }
      ]
    },
    {
      "cell_type": "code",
      "source": [
        "maximum_arr_2=np.max(arr_2)"
      ],
      "metadata": {
        "id": "6LLCmc1p0Gg1"
      },
      "execution_count": 147,
      "outputs": []
    },
    {
      "cell_type": "code",
      "source": [
        "print(maximum_arr_2)"
      ],
      "metadata": {
        "colab": {
          "base_uri": "https://localhost:8080/"
        },
        "id": "TdQrJGxT0tMX",
        "outputId": "c3adc2c2-1a35-4991-a18f-291aa43c6a5e"
      },
      "execution_count": 148,
      "outputs": [
        {
          "output_type": "stream",
          "name": "stdout",
          "text": [
            "3.0\n"
          ]
        }
      ]
    },
    {
      "cell_type": "code",
      "source": [
        "minimum_arr_2=np.min(arr_2)"
      ],
      "metadata": {
        "id": "poQcvacs1JXG"
      },
      "execution_count": 149,
      "outputs": []
    },
    {
      "cell_type": "code",
      "source": [
        "print(minimum_arr_2)"
      ],
      "metadata": {
        "colab": {
          "base_uri": "https://localhost:8080/"
        },
        "id": "ETplTXdV1QsW",
        "outputId": "695454e9-0bfb-4852-f1e2-305b83436825"
      },
      "execution_count": 150,
      "outputs": [
        {
          "output_type": "stream",
          "name": "stdout",
          "text": [
            "3.0\n"
          ]
        }
      ]
    },
    {
      "cell_type": "code",
      "source": [],
      "metadata": {
        "id": "gwhDqpcp1SM-"
      },
      "execution_count": null,
      "outputs": []
    },
    {
      "cell_type": "markdown",
      "source": [
        "#Matrix\n"
      ],
      "metadata": {
        "id": "ClpgCINx1TCN"
      }
    },
    {
      "cell_type": "code",
      "source": [
        "mat_1=np.array([[5,6],[7,8]])\n",
        "print(mat_1)"
      ],
      "metadata": {
        "colab": {
          "base_uri": "https://localhost:8080/"
        },
        "id": "vfKcx_lf1Vnb",
        "outputId": "3dfbefc6-e6dd-41c5-a9da-0e958ef89ad8"
      },
      "execution_count": 151,
      "outputs": [
        {
          "output_type": "stream",
          "name": "stdout",
          "text": [
            "[[5 6]\n",
            " [7 8]]\n"
          ]
        }
      ]
    },
    {
      "cell_type": "code",
      "source": [
        "print(mat_1.shape)"
      ],
      "metadata": {
        "colab": {
          "base_uri": "https://localhost:8080/"
        },
        "id": "VKNiUoC41luE",
        "outputId": "2f72676e-8435-42f9-94e5-985294a926fb"
      },
      "execution_count": 152,
      "outputs": [
        {
          "output_type": "stream",
          "name": "stdout",
          "text": [
            "(2, 2)\n"
          ]
        }
      ]
    },
    {
      "cell_type": "code",
      "source": [
        "mat_2=np.array([[9,10],[11,12]])\n",
        "print(mat_2)"
      ],
      "metadata": {
        "colab": {
          "base_uri": "https://localhost:8080/"
        },
        "id": "-qgN7nrO1oxp",
        "outputId": "ee0a6d17-b31a-4c5a-e503-5512ca86493e"
      },
      "execution_count": 153,
      "outputs": [
        {
          "output_type": "stream",
          "name": "stdout",
          "text": [
            "[[ 9 10]\n",
            " [11 12]]\n"
          ]
        }
      ]
    },
    {
      "cell_type": "code",
      "source": [
        "np.hstack([mat_1,mat_2])"
      ],
      "metadata": {
        "colab": {
          "base_uri": "https://localhost:8080/"
        },
        "id": "AaRXnnFs1xb4",
        "outputId": "36e54c7a-60e7-4f50-b3b5-17cf6cebac90"
      },
      "execution_count": 154,
      "outputs": [
        {
          "output_type": "execute_result",
          "data": {
            "text/plain": [
              "array([[ 5,  6,  9, 10],\n",
              "       [ 7,  8, 11, 12]])"
            ]
          },
          "metadata": {},
          "execution_count": 154
        }
      ]
    },
    {
      "cell_type": "code",
      "source": [
        "np.vstack([mat_1,mat_2])"
      ],
      "metadata": {
        "colab": {
          "base_uri": "https://localhost:8080/"
        },
        "id": "RZwbegDC16vW",
        "outputId": "7f44f7d8-7f20-4a4c-843e-a13758388814"
      },
      "execution_count": 155,
      "outputs": [
        {
          "output_type": "execute_result",
          "data": {
            "text/plain": [
              "array([[ 5,  6],\n",
              "       [ 7,  8],\n",
              "       [ 9, 10],\n",
              "       [11, 12]])"
            ]
          },
          "metadata": {},
          "execution_count": 155
        }
      ]
    },
    {
      "cell_type": "code",
      "source": [],
      "metadata": {
        "id": "ksFCCN_F1_-E"
      },
      "execution_count": null,
      "outputs": []
    },
    {
      "cell_type": "markdown",
      "source": [
        "#Basic Operations with Matrix\n"
      ],
      "metadata": {
        "id": "yhIQ5uHY4I8N"
      }
    },
    {
      "cell_type": "code",
      "source": [
        "print(mat_1)"
      ],
      "metadata": {
        "colab": {
          "base_uri": "https://localhost:8080/"
        },
        "id": "HGieRFaW4LrH",
        "outputId": "76c18501-a825-4b5a-d9a6-c01665ea76cf"
      },
      "execution_count": 156,
      "outputs": [
        {
          "output_type": "stream",
          "name": "stdout",
          "text": [
            "[[5 6]\n",
            " [7 8]]\n"
          ]
        }
      ]
    },
    {
      "cell_type": "code",
      "source": [
        "print(mat_2)"
      ],
      "metadata": {
        "colab": {
          "base_uri": "https://localhost:8080/"
        },
        "id": "BFxdy-Qc7PID",
        "outputId": "96f431a0-1fb2-439b-937e-b314404d71e7"
      },
      "execution_count": 157,
      "outputs": [
        {
          "output_type": "stream",
          "name": "stdout",
          "text": [
            "[[ 9 10]\n",
            " [11 12]]\n"
          ]
        }
      ]
    },
    {
      "cell_type": "code",
      "source": [
        "print(mat_1+mat_2)"
      ],
      "metadata": {
        "colab": {
          "base_uri": "https://localhost:8080/"
        },
        "id": "556ilEkk7TN3",
        "outputId": "53629391-0e1e-4597-e4be-9e1a0fd3f76a"
      },
      "execution_count": 158,
      "outputs": [
        {
          "output_type": "stream",
          "name": "stdout",
          "text": [
            "[[14 16]\n",
            " [18 20]]\n"
          ]
        }
      ]
    },
    {
      "cell_type": "code",
      "source": [
        "print(mat_1-mat_2)"
      ],
      "metadata": {
        "colab": {
          "base_uri": "https://localhost:8080/"
        },
        "id": "Hu3Mzm2s7XSF",
        "outputId": "9b7c4c41-ec1f-481d-ffdc-b7de6366eafa"
      },
      "execution_count": 159,
      "outputs": [
        {
          "output_type": "stream",
          "name": "stdout",
          "text": [
            "[[-4 -4]\n",
            " [-4 -4]]\n"
          ]
        }
      ]
    },
    {
      "cell_type": "code",
      "source": [
        "print(mat_1*mat_2)"
      ],
      "metadata": {
        "colab": {
          "base_uri": "https://localhost:8080/"
        },
        "id": "4MARuOSK7bbm",
        "outputId": "cbefe018-91a3-47fc-df7c-bdfac95903a6"
      },
      "execution_count": 160,
      "outputs": [
        {
          "output_type": "stream",
          "name": "stdout",
          "text": [
            "[[45 60]\n",
            " [77 96]]\n"
          ]
        }
      ]
    },
    {
      "cell_type": "code",
      "source": [
        "print(mat_1/mat_2)"
      ],
      "metadata": {
        "colab": {
          "base_uri": "https://localhost:8080/"
        },
        "id": "Au1evJ-47gP5",
        "outputId": "a0b6a32c-074b-464a-83d1-a2e128dc87de"
      },
      "execution_count": 161,
      "outputs": [
        {
          "output_type": "stream",
          "name": "stdout",
          "text": [
            "[[0.55555556 0.6       ]\n",
            " [0.63636364 0.66666667]]\n"
          ]
        }
      ]
    },
    {
      "cell_type": "code",
      "source": [
        "print(mat_1)"
      ],
      "metadata": {
        "colab": {
          "base_uri": "https://localhost:8080/"
        },
        "id": "kTXm49zj7lGF",
        "outputId": "9f2ba41e-0751-40fb-df59-c1c56d74acaf"
      },
      "execution_count": 162,
      "outputs": [
        {
          "output_type": "stream",
          "name": "stdout",
          "text": [
            "[[5 6]\n",
            " [7 8]]\n"
          ]
        }
      ]
    },
    {
      "cell_type": "code",
      "source": [
        "#elemen di baris 0, kolom 0\n",
        "print(mat_1[0,0])"
      ],
      "metadata": {
        "colab": {
          "base_uri": "https://localhost:8080/"
        },
        "id": "3x5vrtRg7vyO",
        "outputId": "749bdcb1-8268-44df-93f8-5a844002138e"
      },
      "execution_count": 163,
      "outputs": [
        {
          "output_type": "stream",
          "name": "stdout",
          "text": [
            "5\n"
          ]
        }
      ]
    },
    {
      "cell_type": "code",
      "source": [
        "print(mat_1[0,1])"
      ],
      "metadata": {
        "colab": {
          "base_uri": "https://localhost:8080/"
        },
        "id": "k4iHTTPr8jdz",
        "outputId": "60545324-ebf6-42d9-94a7-6350cf7e5c77"
      },
      "execution_count": 164,
      "outputs": [
        {
          "output_type": "stream",
          "name": "stdout",
          "text": [
            "6\n"
          ]
        }
      ]
    },
    {
      "cell_type": "code",
      "source": [
        "print(mat_1[0,:])"
      ],
      "metadata": {
        "colab": {
          "base_uri": "https://localhost:8080/"
        },
        "id": "_o5X7LbG8nTA",
        "outputId": "5870acbf-96b4-49cf-c967-f3d3001c77c5"
      },
      "execution_count": 165,
      "outputs": [
        {
          "output_type": "stream",
          "name": "stdout",
          "text": [
            "[5 6]\n"
          ]
        }
      ]
    },
    {
      "cell_type": "code",
      "source": [
        "print(mat_1[:,0])"
      ],
      "metadata": {
        "colab": {
          "base_uri": "https://localhost:8080/"
        },
        "id": "_0ccnIt988HM",
        "outputId": "5b939a51-eaf6-4130-a36b-ff5d01097962"
      },
      "execution_count": 166,
      "outputs": [
        {
          "output_type": "stream",
          "name": "stdout",
          "text": [
            "[5 7]\n"
          ]
        }
      ]
    },
    {
      "cell_type": "code",
      "source": [
        "print(mat_1)"
      ],
      "metadata": {
        "id": "_Hn6Fr239CZ-"
      },
      "execution_count": null,
      "outputs": []
    },
    {
      "cell_type": "markdown",
      "source": [
        "#Tuple"
      ],
      "metadata": {
        "id": "ue-zvgzu9xCg"
      }
    },
    {
      "cell_type": "code",
      "source": [
        "tuple_1=(1,2,1)"
      ],
      "metadata": {
        "id": "uDpfCjJB9yLN"
      },
      "execution_count": 167,
      "outputs": []
    },
    {
      "cell_type": "code",
      "source": [
        "print(tuple_1)"
      ],
      "metadata": {
        "colab": {
          "base_uri": "https://localhost:8080/"
        },
        "id": "Fu7Fwi5i-eFL",
        "outputId": "49f4fae6-b053-438c-ba37-83f9018f176f"
      },
      "execution_count": 168,
      "outputs": [
        {
          "output_type": "stream",
          "name": "stdout",
          "text": [
            "(1, 2, 1)\n"
          ]
        }
      ]
    },
    {
      "cell_type": "code",
      "source": [
        "tuple_2=7,8,9\n",
        "print(tuple_2)"
      ],
      "metadata": {
        "colab": {
          "base_uri": "https://localhost:8080/"
        },
        "id": "NBxlavQh-nw3",
        "outputId": "5a131660-f0c1-4e33-c88a-4fa51f05c963"
      },
      "execution_count": 169,
      "outputs": [
        {
          "output_type": "stream",
          "name": "stdout",
          "text": [
            "(7, 8, 9)\n"
          ]
        }
      ]
    },
    {
      "cell_type": "code",
      "source": [
        "#mengambil pd indeks slice ttt\n",
        "print(tuple_1[-2])"
      ],
      "metadata": {
        "colab": {
          "base_uri": "https://localhost:8080/"
        },
        "id": "TFP5P7MyEMwn",
        "outputId": "58b75960-aafa-4da2-f491-286f17fa4ade"
      },
      "execution_count": 170,
      "outputs": [
        {
          "output_type": "stream",
          "name": "stdout",
          "text": [
            "2\n"
          ]
        }
      ]
    },
    {
      "cell_type": "code",
      "source": [
        "print(tuple_1+tuple_2)"
      ],
      "metadata": {
        "colab": {
          "base_uri": "https://localhost:8080/"
        },
        "id": "mpDS-9q2ETGx",
        "outputId": "bd9c0eef-9e82-4b93-8ecf-a029d4b1a9d2"
      },
      "execution_count": 171,
      "outputs": [
        {
          "output_type": "stream",
          "name": "stdout",
          "text": [
            "(1, 2, 1, 7, 8, 9)\n"
          ]
        }
      ]
    },
    {
      "cell_type": "code",
      "source": [
        "tuple_1[0]=2"
      ],
      "metadata": {
        "colab": {
          "base_uri": "https://localhost:8080/",
          "height": 141
        },
        "id": "dJROJXrPEX8C",
        "outputId": "a76b99f9-8463-45e1-fd2b-0a5d1b494ebb"
      },
      "execution_count": 172,
      "outputs": [
        {
          "output_type": "error",
          "ename": "TypeError",
          "evalue": "'tuple' object does not support item assignment",
          "traceback": [
            "\u001b[0;31m---------------------------------------------------------------------------\u001b[0m",
            "\u001b[0;31mTypeError\u001b[0m                                 Traceback (most recent call last)",
            "\u001b[0;32m<ipython-input-172-840cf46e990e>\u001b[0m in \u001b[0;36m<cell line: 0>\u001b[0;34m()\u001b[0m\n\u001b[0;32m----> 1\u001b[0;31m \u001b[0mtuple_1\u001b[0m\u001b[0;34m[\u001b[0m\u001b[0;36m0\u001b[0m\u001b[0;34m]\u001b[0m\u001b[0;34m=\u001b[0m\u001b[0;36m2\u001b[0m\u001b[0;34m\u001b[0m\u001b[0;34m\u001b[0m\u001b[0m\n\u001b[0m",
            "\u001b[0;31mTypeError\u001b[0m: 'tuple' object does not support item assignment"
          ]
        }
      ]
    },
    {
      "cell_type": "code",
      "source": [
        "print(tuple_1-tuple_2)"
      ],
      "metadata": {
        "colab": {
          "base_uri": "https://localhost:8080/",
          "height": 141
        },
        "id": "LafNVhsjEcaY",
        "outputId": "6eba21b5-13fd-4a5e-9eac-ed28784c185e"
      },
      "execution_count": 173,
      "outputs": [
        {
          "output_type": "error",
          "ename": "TypeError",
          "evalue": "unsupported operand type(s) for -: 'tuple' and 'tuple'",
          "traceback": [
            "\u001b[0;31m---------------------------------------------------------------------------\u001b[0m",
            "\u001b[0;31mTypeError\u001b[0m                                 Traceback (most recent call last)",
            "\u001b[0;32m<ipython-input-173-9cd236ca1d4a>\u001b[0m in \u001b[0;36m<cell line: 0>\u001b[0;34m()\u001b[0m\n\u001b[0;32m----> 1\u001b[0;31m \u001b[0mprint\u001b[0m\u001b[0;34m(\u001b[0m\u001b[0mtuple_1\u001b[0m\u001b[0;34m-\u001b[0m\u001b[0mtuple_2\u001b[0m\u001b[0;34m)\u001b[0m\u001b[0;34m\u001b[0m\u001b[0;34m\u001b[0m\u001b[0m\n\u001b[0m",
            "\u001b[0;31mTypeError\u001b[0m: unsupported operand type(s) for -: 'tuple' and 'tuple'"
          ]
        }
      ]
    },
    {
      "cell_type": "code",
      "source": [],
      "metadata": {
        "id": "oYQZv6kfEgQB"
      },
      "execution_count": null,
      "outputs": []
    },
    {
      "cell_type": "markdown",
      "source": [
        "#Set"
      ],
      "metadata": {
        "id": "LQnCYvS8Ehkc"
      }
    },
    {
      "cell_type": "code",
      "source": [
        "#BIA BERISI TPE DATA PRIMITIVE CAMPURAN (INT, BOOL. FLOAT, STRING)\n",
        "\n",
        "set_1={1,2,3,4,4,4,4,5,5,5,6,'a','z','b',True,False}"
      ],
      "metadata": {
        "id": "GpW3Yi6hEihP"
      },
      "execution_count": 174,
      "outputs": []
    },
    {
      "cell_type": "code",
      "source": [
        "print(set_1)"
      ],
      "metadata": {
        "colab": {
          "base_uri": "https://localhost:8080/"
        },
        "id": "RHQ0_uIKEuJf",
        "outputId": "4f20a306-4c8f-456b-d26f-49501b896e81"
      },
      "execution_count": 175,
      "outputs": [
        {
          "output_type": "stream",
          "name": "stdout",
          "text": [
            "{'a', 1, 2, 3, 4, 5, 6, 'z', False, 'b'}\n"
          ]
        }
      ]
    },
    {
      "cell_type": "code",
      "source": [
        "set_2=set([4,4,4,4,3,3,3,5,5,6,7])"
      ],
      "metadata": {
        "id": "ohj8fnw4EvYc"
      },
      "execution_count": 176,
      "outputs": []
    },
    {
      "cell_type": "code",
      "source": [
        "print(set_2)"
      ],
      "metadata": {
        "colab": {
          "base_uri": "https://localhost:8080/"
        },
        "id": "WV5dMakfE52J",
        "outputId": "86b3c7ca-658d-491c-8203-58cfebfcb2d2"
      },
      "execution_count": 177,
      "outputs": [
        {
          "output_type": "stream",
          "name": "stdout",
          "text": [
            "{3, 4, 5, 6, 7}\n"
          ]
        }
      ]
    },
    {
      "cell_type": "code",
      "source": [],
      "metadata": {
        "id": "7ad8Avp8E79Z"
      },
      "execution_count": null,
      "outputs": []
    },
    {
      "cell_type": "markdown",
      "source": [
        "#Basic Operations with set"
      ],
      "metadata": {
        "id": "NcVp3yKEE8-t"
      }
    },
    {
      "cell_type": "code",
      "source": [
        "#pengurangan\n",
        "print(set_1-set_2)"
      ],
      "metadata": {
        "colab": {
          "base_uri": "https://localhost:8080/"
        },
        "id": "VDdrcHdJE_E8",
        "outputId": "6766e043-e2ac-4567-a0e2-cc4f225e3070"
      },
      "execution_count": 178,
      "outputs": [
        {
          "output_type": "stream",
          "name": "stdout",
          "text": [
            "{'a', 1, 2, 'z', False, 'b'}\n"
          ]
        }
      ]
    },
    {
      "cell_type": "code",
      "source": [
        "#elmts in both set_1 and set_2 (irisan)\n",
        "print(set_1&set_2)"
      ],
      "metadata": {
        "colab": {
          "base_uri": "https://localhost:8080/"
        },
        "id": "PQk3Hbj6FDUA",
        "outputId": "0128ae42-b422-4257-9316-78b4fecafc1e"
      },
      "execution_count": 181,
      "outputs": [
        {
          "output_type": "stream",
          "name": "stdout",
          "text": [
            "{3, 4, 5, 6}\n"
          ]
        }
      ]
    },
    {
      "cell_type": "code",
      "source": [
        "#UNIOn\n",
        "print(set_1|set_2)"
      ],
      "metadata": {
        "colab": {
          "base_uri": "https://localhost:8080/"
        },
        "id": "xs-ryW_CFWj4",
        "outputId": "c69af819-feaa-4944-b7bf-74527e921e9b"
      },
      "execution_count": 182,
      "outputs": [
        {
          "output_type": "stream",
          "name": "stdout",
          "text": [
            "{'a', 1, 2, 3, 4, 5, 6, 'z', False, 'b', 7}\n"
          ]
        }
      ]
    },
    {
      "cell_type": "code",
      "source": [
        "print(set_1/set_2)"
      ],
      "metadata": {
        "colab": {
          "base_uri": "https://localhost:8080/",
          "height": 141
        },
        "id": "Il6ErnY_F0UU",
        "outputId": "0286eb0e-8d3e-4761-dc98-619cf4454981"
      },
      "execution_count": 183,
      "outputs": [
        {
          "output_type": "error",
          "ename": "TypeError",
          "evalue": "unsupported operand type(s) for /: 'set' and 'set'",
          "traceback": [
            "\u001b[0;31m---------------------------------------------------------------------------\u001b[0m",
            "\u001b[0;31mTypeError\u001b[0m                                 Traceback (most recent call last)",
            "\u001b[0;32m<ipython-input-183-522bdfe66343>\u001b[0m in \u001b[0;36m<cell line: 0>\u001b[0;34m()\u001b[0m\n\u001b[0;32m----> 1\u001b[0;31m \u001b[0mprint\u001b[0m\u001b[0;34m(\u001b[0m\u001b[0mset_1\u001b[0m\u001b[0;34m/\u001b[0m\u001b[0mset_2\u001b[0m\u001b[0;34m)\u001b[0m\u001b[0;34m\u001b[0m\u001b[0;34m\u001b[0m\u001b[0m\n\u001b[0m",
            "\u001b[0;31mTypeError\u001b[0m: unsupported operand type(s) for /: 'set' and 'set'"
          ]
        }
      ]
    },
    {
      "cell_type": "code",
      "source": [
        "#make a test score each students\n",
        "\n",
        "score_dict={'Bell':75,\n",
        "            'John':96,\n",
        "            'Shinta':83.3,\n",
        "            'Mark':55,\n",
        "            'Kurnia':90\n",
        "            }\n",
        "print(score_dict)"
      ],
      "metadata": {
        "colab": {
          "base_uri": "https://localhost:8080/"
        },
        "id": "0Sz___rUF2vu",
        "outputId": "b271fec3-a999-4682-a92b-1755ccd06719"
      },
      "execution_count": 187,
      "outputs": [
        {
          "output_type": "stream",
          "name": "stdout",
          "text": [
            "{'Bell': 75, 'John': 96, 'Shinta': 83.3, 'Mark': 55, 'Kurnia': 90}\n"
          ]
        }
      ]
    },
    {
      "cell_type": "markdown",
      "source": [
        "#dictionary"
      ],
      "metadata": {
        "id": "q37pnX2MF3qf"
      }
    },
    {
      "cell_type": "code",
      "source": [
        "print(score_dict['John'])\n",
        "print(score_dict['Mark'])"
      ],
      "metadata": {
        "colab": {
          "base_uri": "https://localhost:8080/"
        },
        "id": "q9QNSxvpF40K",
        "outputId": "c1b15ef2-9392-467a-f3dc-3702f8322b62"
      },
      "execution_count": 188,
      "outputs": [
        {
          "output_type": "stream",
          "name": "stdout",
          "text": [
            "96\n",
            "55\n"
          ]
        }
      ]
    },
    {
      "cell_type": "code",
      "source": [
        "#we can add change value of one student\n",
        "score_dict['Bell']=77\n",
        "print(score_dict)"
      ],
      "metadata": {
        "colab": {
          "base_uri": "https://localhost:8080/"
        },
        "id": "liHTPLNRGba2",
        "outputId": "3b8d5ccd-0b70-409d-8713-be62c2770fb2"
      },
      "execution_count": 190,
      "outputs": [
        {
          "output_type": "stream",
          "name": "stdout",
          "text": [
            "{'Bell': 77, 'John': 96, 'Shinta': 83.3, 'Mark': 55, 'Kurnia': 90}\n"
          ]
        }
      ]
    },
    {
      "cell_type": "code",
      "source": [
        "del score_dict['Shinta']\n",
        "print(score_dict)"
      ],
      "metadata": {
        "colab": {
          "base_uri": "https://localhost:8080/"
        },
        "id": "mM3KM2hDGoRI",
        "outputId": "89ca3b2d-bcbe-40c2-c66e-e6b8a6d367b3"
      },
      "execution_count": 191,
      "outputs": [
        {
          "output_type": "stream",
          "name": "stdout",
          "text": [
            "{'Bell': 77, 'John': 96, 'Mark': 55, 'Kurnia': 90}\n"
          ]
        }
      ]
    },
    {
      "cell_type": "code",
      "source": [
        "#key and values\n",
        "print(score_dict.keys())"
      ],
      "metadata": {
        "colab": {
          "base_uri": "https://localhost:8080/"
        },
        "id": "esEtVEqOG5Kg",
        "outputId": "dcd7dfc4-bd8a-44da-80f8-e8c7f2e64d7d"
      },
      "execution_count": 192,
      "outputs": [
        {
          "output_type": "stream",
          "name": "stdout",
          "text": [
            "dict_keys(['Bell', 'John', 'Mark', 'Kurnia'])\n"
          ]
        }
      ]
    },
    {
      "cell_type": "code",
      "source": [
        "print(score_dict.values())"
      ],
      "metadata": {
        "colab": {
          "base_uri": "https://localhost:8080/"
        },
        "id": "dBsBWkm0HEgB",
        "outputId": "c0e409ee-6537-4868-82fb-59dda7d4b2cc"
      },
      "execution_count": 193,
      "outputs": [
        {
          "output_type": "stream",
          "name": "stdout",
          "text": [
            "dict_values([77, 96, 55, 90])\n"
          ]
        }
      ]
    },
    {
      "cell_type": "code",
      "source": [
        "score_dict['Haekal']=score_dict.pop('John')\n",
        "score_dict"
      ],
      "metadata": {
        "colab": {
          "base_uri": "https://localhost:8080/"
        },
        "id": "d_WpxBLGHHzQ",
        "outputId": "65fa8499-f93d-4d6a-b565-74730c2d25db"
      },
      "execution_count": 198,
      "outputs": [
        {
          "output_type": "execute_result",
          "data": {
            "text/plain": [
              "{'Bell': 77, 'Mark': 55, 'Kurnia': 90, 'Haekal': 96}"
            ]
          },
          "metadata": {},
          "execution_count": 198
        }
      ]
    },
    {
      "cell_type": "code",
      "source": [
        "#vary  value dictionary-> just fyi\n",
        "vary_value_dict={'Gender':'Male',\n",
        "            'list':['Male',9,8,5.772,True],\n",
        "            'array':np.array([1,6.5,True,False]),\n",
        "            'matrix':np.array([[3,2],[4,7]]),\n",
        "            'tuple':(1,3,7),\n",
        "            'set':set([1,1,1,2,2,3]),\n",
        "            'dictionary':{\n",
        "                'key_1':'value1',\n",
        "                'key_2':'value2'\n",
        "            }\n",
        "            }\n",
        "vary_value_dict"
      ],
      "metadata": {
        "colab": {
          "base_uri": "https://localhost:8080/"
        },
        "id": "A4DWn3uGHWhN",
        "outputId": "8a35d815-fc5e-4a93-b757-9be2b51a8bc5"
      },
      "execution_count": 200,
      "outputs": [
        {
          "output_type": "execute_result",
          "data": {
            "text/plain": [
              "{'Gender': 'Male',\n",
              " 'list': ['Male', 9, 8, 5.772, True],\n",
              " 'array': array([1. , 6.5, 1. , 0. ]),\n",
              " 'matrix': array([[3, 2],\n",
              "        [4, 7]]),\n",
              " 'tuple': (1, 3, 7),\n",
              " 'set': {1, 2, 3},\n",
              " 'dictionary': {'key_1': 'value1', 'key_2': 'value2'}}"
            ]
          },
          "metadata": {},
          "execution_count": 200
        }
      ]
    },
    {
      "cell_type": "code",
      "source": [],
      "metadata": {
        "id": "Y4k8CAzaJVeA"
      },
      "execution_count": null,
      "outputs": []
    }
  ],
  "metadata": {
    "colab": {
      "provenance": []
    },
    "kernelspec": {
      "display_name": "Python 3",
      "name": "python3"
    },
    "language_info": {
      "name": "python"
    }
  },
  "nbformat": 4,
  "nbformat_minor": 0
}